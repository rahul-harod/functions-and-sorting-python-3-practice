{
 "cells": [
  {
   "cell_type": "code",
   "execution_count": 1,
   "metadata": {},
   "outputs": [
    {
     "data": {
      "text/plain": [
       "'Amazing'"
      ]
     },
     "execution_count": 1,
     "metadata": {},
     "output_type": "execute_result"
    }
   ],
   "source": [
    "a='#Amazing'\n",
    "a.replace('#','')"
   ]
  },
  {
   "cell_type": "code",
   "execution_count": 16,
   "metadata": {},
   "outputs": [],
   "source": [
    "punctuation_chars = [\"'\", '\"', \",\", \".\", \"!\", \":\", \";\", '#', '@']\n",
    "def strip_punctuation(word):\n",
    "    srt=''\n",
    "    for k in word:\n",
    "        if k in punctuation_chars:\n",
    "            continue\n",
    "        srt+=k\n",
    "    return srt"
   ]
  },
  {
   "cell_type": "code",
   "execution_count": 21,
   "metadata": {},
   "outputs": [
    {
     "data": {
      "text/plain": [
       "'Testing what a truly wonderful day it is today incredible'"
      ]
     },
     "execution_count": 21,
     "metadata": {},
     "output_type": "execute_result"
    }
   ],
   "source": [
    "strip_punctuation('\"Testing \"what a truly wonderful day it is today! #incredible\"\"')"
   ]
  },
  {
   "cell_type": "code",
   "execution_count": 24,
   "metadata": {},
   "outputs": [],
   "source": [
    "\n",
    "punctuation_chars = [\"'\", '\"', \",\", \".\", \"!\", \":\", \";\", '#', '@']\n",
    "# list of positive words to use\n",
    "positive_words = []\n",
    "with open(\"F:\\\\python michigan\\positive_word.txt\",'r') as pos_f:\n",
    "    for lin in pos_f:\n",
    "        if lin[0] != ';' and lin[0] != '\\n':\n",
    "            positive_words.append(lin.strip())\n",
    "\n",
    "def strip_punctuation(word):\n",
    "    srt=''\n",
    "    for k in word:\n",
    "        if k in punctuation_chars:\n",
    "            continue\n",
    "        srt+=k\n",
    "    return srt\n",
    "\n",
    "def get_pos(sentence):\n",
    "    sentence=strip_punctuation(sentence)\n",
    "    count=0\n",
    "    sentence=sentence.lower()\n",
    "    sentence=sentence.split()\n",
    "    for word in sentence:\n",
    "        if word in positive_words:\n",
    "            count+=1\n",
    "    return count"
   ]
  },
  {
   "cell_type": "code",
   "execution_count": 29,
   "metadata": {},
   "outputs": [
    {
     "data": {
      "text/plain": [
       "2"
      ]
     },
     "execution_count": 29,
     "metadata": {},
     "output_type": "execute_result"
    }
   ],
   "source": [
    "sen='Testing\"what a truly wonderful day it is today! #incredible\"'\n",
    "num_pos_word=get_pos(sen)\n",
    "num_pos_word"
   ]
  },
  {
   "cell_type": "code",
   "execution_count": 30,
   "metadata": {},
   "outputs": [
    {
     "data": {
      "text/plain": [
       "1"
      ]
     },
     "execution_count": 30,
     "metadata": {},
     "output_type": "execute_result"
    }
   ],
   "source": [
    "s='what a truly wonderful day it is today!'\n",
    "num_pos_word=get_pos(s)\n",
    "num_pos_word"
   ]
  },
  {
   "cell_type": "code",
   "execution_count": null,
   "metadata": {},
   "outputs": [],
   "source": []
  },
  {
   "cell_type": "code",
   "execution_count": null,
   "metadata": {},
   "outputs": [],
   "source": [
    "\n",
    "punctuation_chars = [\"'\", '\"', \",\", \".\", \"!\", \":\", \";\", '#', '@']\n",
    "\n",
    "negative_words = []\n",
    "with open(\"negative_words.txt\") as pos_f:\n",
    "    for lin in pos_f:\n",
    "        if lin[0] != ';' and lin[0] != '\\n':\n",
    "            negative_words.append(lin.strip())\n",
    "\n",
    "def strip_punctuation(word):\n",
    "    srt=''\n",
    "    for k in word:\n",
    "        if k in punctuation_chars:\n",
    "            continue\n",
    "        srt+=k\n",
    "    return srt\n",
    "\n",
    "def get_neg(sentence):\n",
    "    sentence=strip_punctuation(sentence)\n",
    "    count=0\n",
    "    sentence=sentence.lower()\n",
    "    sentence=sentence.split()\n",
    "    for word in sentence:\n",
    "        if word in negative_words:\n",
    "            count+=1\n",
    "    return count"
   ]
  },
  {
   "cell_type": "code",
   "execution_count": null,
   "metadata": {},
   "outputs": [],
   "source": [
    "\n",
    "punctuation_chars = [\"'\", '\"', \",\", \".\", \"!\", \":\", \";\", '#', '@']\n",
    "# lists of words to use\n",
    "positive_words = []\n",
    "with open(\"positive_words.txt\") as pos_f:\n",
    "    for lin in pos_f:\n",
    "        if lin[0] != ';' and lin[0] != '\\n':\n",
    "            positive_words.append(lin.strip())\n",
    "\n",
    "\n",
    "negative_words = []\n",
    "with open(\"negative_words.txt\") as pos_f:\n",
    "    for lin in pos_f:\n",
    "        if lin[0] != ';' and lin[0] != '\\n':\n",
    "            negative_words.append(lin.strip())\n",
    "            \n",
    "            \n",
    "def strip_punctuation(word):\n",
    "    srt=''\n",
    "    for k in word:\n",
    "        if k in punctuation_chars:\n",
    "            continue\n",
    "        srt+=k\n",
    "    return srt\n",
    "\n",
    "def get_pos(sentence):\n",
    "    sentence=strip_punctuation(sentence)\n",
    "    count=0\n",
    "    sentence=sentence.lower()\n",
    "    sentence=sentence.split()\n",
    "    for word in sentence:\n",
    "        if word in positive_words:\n",
    "            count+=1\n",
    "    return count\n",
    "\n",
    "def get_neg(sentence):\n",
    "    sentence=strip_punctuation(sentence)\n",
    "    count=0\n",
    "    sentence=sentence.lower()\n",
    "    sentence=sentence.split()\n",
    "    for word in sentence:\n",
    "        if word in negative_words:\n",
    "            count+=1\n",
    "    return count\n",
    "\n",
    "\n",
    "with open(\"project_twitter_data.csv\",'r') as f:\n",
    "    l=f.split()\n",
    "    print(l)\n",
    "\n",
    "\n",
    "\n",
    "#with open(\"resulting_data.csv\",'w') as w:\n"
   ]
  },
  {
   "cell_type": "code",
   "execution_count": null,
   "metadata": {},
   "outputs": [],
   "source": [
    "punctuation_chars = [\"'\", '\"', \",\", \".\", \"!\", \":\", \";\", '#', '@']\n",
    "# lists of words to use\n",
    "positive_words = []\n",
    "with open(\"positive_words.txt\") as pos_f:\n",
    "    for lin in pos_f:\n",
    "        if lin[0] != ';' and lin[0] != '\\n':\n",
    "            positive_words.append(lin.strip())\n",
    "\n",
    "\n",
    "negative_words = []\n",
    "with open(\"negative_words.txt\") as pos_f:\n",
    "    for lin in pos_f:\n",
    "        if lin[0] != ';' and lin[0] != '\\n':\n",
    "            negative_words.append(lin.strip())\n",
    "            \n",
    "            \n",
    "def strip_punctuation(word):\n",
    "    srt=''\n",
    "    for k in word:\n",
    "        if k in punctuation_chars:\n",
    "            continue\n",
    "        srt+=k\n",
    "    return srt\n",
    "\n",
    "def get_pos(sentence):\n",
    "    sentence=strip_punctuation(sentence)\n",
    "    count=0\n",
    "    sentence=sentence.lower()\n",
    "    sentence=sentence.split()\n",
    "    for word in sentence:\n",
    "        if word in positive_words:\n",
    "            count+=1\n",
    "    return count\n",
    "\n",
    "def get_neg(sentence):\n",
    "    sentence=strip_punctuation(sentence)\n",
    "    count=0\n",
    "    sentence=sentence.lower()\n",
    "    sentence=sentence.split()\n",
    "    for word in sentence:\n",
    "        if word in negative_words:\n",
    "            count+=1\n",
    "    return count\n",
    "\n",
    "pos=[]\n",
    "neg=[]\n",
    "retweet=[]\n",
    "reply=[]\n",
    "with open(\"project_twitter_data.csv\",'r') as f:\n",
    "    for line in f.readlines()[1:]:\n",
    "        l=line.split(',')\n",
    "        s=int(l[-1][:-1])\n",
    "        reply.append(s)\n",
    "        t=int(l[-2])\n",
    "        retweet.append(t)            \n",
    "        pos.append(get_pos(l[0]))\n",
    "        neg.append(get_neg(l[0]))\n",
    "    \n",
    "\n",
    "with open(\"resulting_data.csv\",'w') as w:\n",
    "    w.write(\"Number of Retweets, Number of Replies, Positive Score, Negative Score, Net Score\")\n",
    "    w.write('\\n')\n",
    "    for i in range(len(pos)):\n",
    "        row='{},{},{},{},{}'.format(retweet[i],reply[i],pos[i],neg[i],pos[i]-neg[i])\n",
    "        w.write(row)\n",
    "        w.write('\\n')\n",
    "\n",
    " \n",
    "\n",
    "\n"
   ]
  },
  {
   "cell_type": "code",
   "execution_count": null,
   "metadata": {},
   "outputs": [],
   "source": []
  },
  {
   "cell_type": "code",
   "execution_count": 60,
   "metadata": {},
   "outputs": [],
   "source": [
    "import pandas as pd\n",
    "import matplotlib.pyplot as plt"
   ]
  },
  {
   "cell_type": "code",
   "execution_count": 71,
   "metadata": {},
   "outputs": [],
   "source": [
    "data=pd.read_csv(\"F:\\\\resulting_data.csv\")"
   ]
  },
  {
   "cell_type": "code",
   "execution_count": 72,
   "metadata": {},
   "outputs": [
    {
     "data": {
      "text/html": [
       "<div>\n",
       "<style scoped>\n",
       "    .dataframe tbody tr th:only-of-type {\n",
       "        vertical-align: middle;\n",
       "    }\n",
       "\n",
       "    .dataframe tbody tr th {\n",
       "        vertical-align: top;\n",
       "    }\n",
       "\n",
       "    .dataframe thead th {\n",
       "        text-align: right;\n",
       "    }\n",
       "</style>\n",
       "<table border=\"1\" class=\"dataframe\">\n",
       "  <thead>\n",
       "    <tr style=\"text-align: right;\">\n",
       "      <th></th>\n",
       "      <th>Number of Retweets</th>\n",
       "      <th>Number of Replies</th>\n",
       "      <th>Positive Score</th>\n",
       "      <th>Negative Score</th>\n",
       "      <th>Net Score</th>\n",
       "    </tr>\n",
       "  </thead>\n",
       "  <tbody>\n",
       "    <tr>\n",
       "      <th>0</th>\n",
       "      <td>3</td>\n",
       "      <td>0</td>\n",
       "      <td>0</td>\n",
       "      <td>0</td>\n",
       "      <td>0</td>\n",
       "    </tr>\n",
       "    <tr>\n",
       "      <th>1</th>\n",
       "      <td>1</td>\n",
       "      <td>0</td>\n",
       "      <td>2</td>\n",
       "      <td>2</td>\n",
       "      <td>0</td>\n",
       "    </tr>\n",
       "    <tr>\n",
       "      <th>2</th>\n",
       "      <td>1</td>\n",
       "      <td>2</td>\n",
       "      <td>1</td>\n",
       "      <td>0</td>\n",
       "      <td>1</td>\n",
       "    </tr>\n",
       "    <tr>\n",
       "      <th>3</th>\n",
       "      <td>3</td>\n",
       "      <td>1</td>\n",
       "      <td>1</td>\n",
       "      <td>0</td>\n",
       "      <td>1</td>\n",
       "    </tr>\n",
       "    <tr>\n",
       "      <th>4</th>\n",
       "      <td>6</td>\n",
       "      <td>0</td>\n",
       "      <td>2</td>\n",
       "      <td>0</td>\n",
       "      <td>2</td>\n",
       "    </tr>\n",
       "    <tr>\n",
       "      <th>5</th>\n",
       "      <td>9</td>\n",
       "      <td>5</td>\n",
       "      <td>2</td>\n",
       "      <td>0</td>\n",
       "      <td>2</td>\n",
       "    </tr>\n",
       "    <tr>\n",
       "      <th>6</th>\n",
       "      <td>19</td>\n",
       "      <td>0</td>\n",
       "      <td>2</td>\n",
       "      <td>0</td>\n",
       "      <td>2</td>\n",
       "    </tr>\n",
       "    <tr>\n",
       "      <th>7</th>\n",
       "      <td>0</td>\n",
       "      <td>0</td>\n",
       "      <td>0</td>\n",
       "      <td>3</td>\n",
       "      <td>-3</td>\n",
       "    </tr>\n",
       "    <tr>\n",
       "      <th>8</th>\n",
       "      <td>0</td>\n",
       "      <td>0</td>\n",
       "      <td>0</td>\n",
       "      <td>2</td>\n",
       "      <td>-2</td>\n",
       "    </tr>\n",
       "    <tr>\n",
       "      <th>9</th>\n",
       "      <td>82</td>\n",
       "      <td>2</td>\n",
       "      <td>4</td>\n",
       "      <td>0</td>\n",
       "      <td>4</td>\n",
       "    </tr>\n",
       "    <tr>\n",
       "      <th>10</th>\n",
       "      <td>0</td>\n",
       "      <td>0</td>\n",
       "      <td>0</td>\n",
       "      <td>1</td>\n",
       "      <td>-1</td>\n",
       "    </tr>\n",
       "    <tr>\n",
       "      <th>11</th>\n",
       "      <td>0</td>\n",
       "      <td>0</td>\n",
       "      <td>1</td>\n",
       "      <td>0</td>\n",
       "      <td>1</td>\n",
       "    </tr>\n",
       "    <tr>\n",
       "      <th>12</th>\n",
       "      <td>47</td>\n",
       "      <td>0</td>\n",
       "      <td>2</td>\n",
       "      <td>0</td>\n",
       "      <td>2</td>\n",
       "    </tr>\n",
       "    <tr>\n",
       "      <th>13</th>\n",
       "      <td>2</td>\n",
       "      <td>1</td>\n",
       "      <td>1</td>\n",
       "      <td>0</td>\n",
       "      <td>1</td>\n",
       "    </tr>\n",
       "    <tr>\n",
       "      <th>14</th>\n",
       "      <td>0</td>\n",
       "      <td>2</td>\n",
       "      <td>1</td>\n",
       "      <td>0</td>\n",
       "      <td>1</td>\n",
       "    </tr>\n",
       "    <tr>\n",
       "      <th>15</th>\n",
       "      <td>0</td>\n",
       "      <td>0</td>\n",
       "      <td>2</td>\n",
       "      <td>1</td>\n",
       "      <td>1</td>\n",
       "    </tr>\n",
       "    <tr>\n",
       "      <th>16</th>\n",
       "      <td>4</td>\n",
       "      <td>6</td>\n",
       "      <td>3</td>\n",
       "      <td>0</td>\n",
       "      <td>3</td>\n",
       "    </tr>\n",
       "    <tr>\n",
       "      <th>17</th>\n",
       "      <td>19</td>\n",
       "      <td>0</td>\n",
       "      <td>3</td>\n",
       "      <td>1</td>\n",
       "      <td>2</td>\n",
       "    </tr>\n",
       "    <tr>\n",
       "      <th>18</th>\n",
       "      <td>0</td>\n",
       "      <td>0</td>\n",
       "      <td>1</td>\n",
       "      <td>1</td>\n",
       "      <td>0</td>\n",
       "    </tr>\n",
       "  </tbody>\n",
       "</table>\n",
       "</div>"
      ],
      "text/plain": [
       "    Number of Retweets   Number of Replies   Positive Score   Negative Score  \\\n",
       "0                    3                   0                0                0   \n",
       "1                    1                   0                2                2   \n",
       "2                    1                   2                1                0   \n",
       "3                    3                   1                1                0   \n",
       "4                    6                   0                2                0   \n",
       "5                    9                   5                2                0   \n",
       "6                   19                   0                2                0   \n",
       "7                    0                   0                0                3   \n",
       "8                    0                   0                0                2   \n",
       "9                   82                   2                4                0   \n",
       "10                   0                   0                0                1   \n",
       "11                   0                   0                1                0   \n",
       "12                  47                   0                2                0   \n",
       "13                   2                   1                1                0   \n",
       "14                   0                   2                1                0   \n",
       "15                   0                   0                2                1   \n",
       "16                   4                   6                3                0   \n",
       "17                  19                   0                3                1   \n",
       "18                   0                   0                1                1   \n",
       "\n",
       "     Net Score  \n",
       "0            0  \n",
       "1            0  \n",
       "2            1  \n",
       "3            1  \n",
       "4            2  \n",
       "5            2  \n",
       "6            2  \n",
       "7           -3  \n",
       "8           -2  \n",
       "9            4  \n",
       "10          -1  \n",
       "11           1  \n",
       "12           2  \n",
       "13           1  \n",
       "14           1  \n",
       "15           1  \n",
       "16           3  \n",
       "17           2  \n",
       "18           0  "
      ]
     },
     "execution_count": 72,
     "metadata": {},
     "output_type": "execute_result"
    }
   ],
   "source": [
    "data"
   ]
  },
  {
   "cell_type": "code",
   "execution_count": 73,
   "metadata": {},
   "outputs": [],
   "source": [
    "x=data.iloc[:,-1]\n",
    "y=data.iloc[:,0]"
   ]
  },
  {
   "cell_type": "code",
   "execution_count": 75,
   "metadata": {},
   "outputs": [
    {
     "data": {
      "text/plain": [
       "<matplotlib.collections.PathCollection at 0x1d114dfa048>"
      ]
     },
     "execution_count": 75,
     "metadata": {},
     "output_type": "execute_result"
    },
    {
     "data": {
      "image/png": "[encoded data removed]",
      "text/plain": [
       "<Figure size 432x288 with 1 Axes>"
      ]
     },
     "metadata": {
      "needs_background": "light"
     },
     "output_type": "display_data"
    }
   ],
   "source": [
    "plt.scatter(x,y)"
   ]
  },
  {
   "cell_type": "code",
   "execution_count": null,
   "metadata": {},
   "outputs": [],
   "source": []
  }
 ],
 "metadata": {
  "kernelspec": {
   "display_name": "Python 3",
   "language": "python",
   "name": "python3"
  },
  "language_info": {
   "codemirror_mode": {
    "name": "ipython",
    "version": 3
   },
   "file_extension": ".py",
   "mimetype": "text/x-python",
   "name": "python",
   "nbconvert_exporter": "python",
   "pygments_lexer": "ipython3",
   "version": "3.7.7"
  }
 },
 "nbformat": 4,
 "nbformat_minor": 4
}
