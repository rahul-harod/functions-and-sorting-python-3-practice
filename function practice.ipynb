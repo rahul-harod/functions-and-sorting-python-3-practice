{
 "cells": [
  {
   "cell_type": "markdown",
   "metadata": {},
   "source": [
    "# functions practice"
   ]
  },
  {
   "cell_type": "code",
   "execution_count": 1,
   "metadata": {},
   "outputs": [],
   "source": [
    "import turtle\n",
    "\n",
    "def drawSquare(t, sz):\n",
    "    \"\"\"Make turtle t draw a square of with side sz.\"\"\"\n",
    "\n",
    "    for i in range(4):\n",
    "        t.forward(sz)\n",
    "        t.left(90)\n",
    "\n",
    "\n",
    "wn = turtle.Screen()      # Set up the window and its attributes\n",
    "wn.bgcolor(\"lightgreen\")\n",
    "\n",
    "alex = turtle.Turtle()    # create alex\n",
    "drawSquare(alex, 50)      # Call the function to draw the square passing the actual turtle and the actual side size\n",
    "\n",
    "wn.exitonclick()"
   ]
  },
  {
   "cell_type": "code",
   "execution_count": 6,
   "metadata": {},
   "outputs": [
    {
     "name": "stdout",
     "output_type": "stream",
     "text": [
      "square of 42 is 1764.\n"
     ]
    }
   ],
   "source": [
    "def square(number):\n",
    "    return number*number\n",
    "n=42\n",
    "result=square(n)\n",
    "print(\"square of {} is {}.\".format(n,result))"
   ]
  },
  {
   "cell_type": "code",
   "execution_count": 12,
   "metadata": {},
   "outputs": [
    {
     "name": "stdout",
     "output_type": "stream",
     "text": [
      "Sam\n",
      "Tera\n",
      "Sal\n",
      "Amita\n",
      "False\n",
      "Rey\n",
      "Ayo\n",
      "Lauren\n",
      "True\n"
     ]
    }
   ],
   "source": [
    "def longer_than_five(list_of_names):\n",
    "    for name in list_of_names:\n",
    "        print(name)# iterate over the list to look at each name\n",
    "        if len(name) > 5: # as soon as you see a name longer than 5 letters,\n",
    "            return True # then return True!\n",
    "            # If Python executes that return statement, the function is over and the rest of the code will not run -- you already have your answer!\n",
    "    return False # You will only get to this line if you\n",
    "    # iterated over the whole list and did not get a name where\n",
    "    # the if expression evaluated to True, so at this point, it's correct to return False!\n",
    "\n",
    "# Here are a couple sample calls to the function with different lists of names. Try running this code in Codelens a few times and make sure you understand exactly what is happening.\n",
    "\n",
    "list1 = [\"Sam\",\"Tera\",\"Sal\",\"Amita\"]\n",
    "list2 = [\"Rey\",\"Ayo\",\"Lauren\",\"Natalie\"]\n",
    "\n",
    "print(longer_than_five(list1))\n",
    "print(longer_than_five(list2))\n"
   ]
  },
  {
   "cell_type": "code",
   "execution_count": 13,
   "metadata": {},
   "outputs": [
    {
     "name": "stdout",
     "output_type": "stream",
     "text": [
      "g\n",
      "square\n",
      "25\n"
     ]
    }
   ],
   "source": [
    "def square(x):\n",
    "    print(\"square\")\n",
    "    return x*x\n",
    "\n",
    "def g(y):\n",
    "    print(\"g\")\n",
    "    return y + 3\n",
    "\n",
    "print(square(g(2)))"
   ]
  },
  {
   "cell_type": "code",
   "execution_count": 20,
   "metadata": {},
   "outputs": [
    {
     "name": "stdout",
     "output_type": "stream",
     "text": [
      "Hello, my name is rahul and I love SI 106.\n"
     ]
    }
   ],
   "source": [
    "def intro(str):\n",
    "    inter= \"Hello, my name is \"+ str +\" and I love SI 106.\"\n",
    "    return inter\n",
    "print(intro(\"rahul\"))"
   ]
  },
  {
   "cell_type": "code",
   "execution_count": 1,
   "metadata": {},
   "outputs": [
    {
     "name": "stdout",
     "output_type": "stream",
     "text": [
      "b\n"
     ]
    }
   ],
   "source": [
    "def most_common_letter(s):\n",
    "    frequencies = count_freqs(s)\n",
    "    return best_key(frequencies)\n",
    "\n",
    "def count_freqs(st):\n",
    "    d = {}\n",
    "    for c in st:\n",
    "        if c not in d:\n",
    "             d[c] = 0\n",
    "        d[c] = d[c] + 1\n",
    "    return d\n",
    "\n",
    "def best_key(dictionary):\n",
    "    ks = dictionary.keys()\n",
    "    best_key_so_far = list(ks)[0]  # Have to turn ks into a real list before using [] to select an item\n",
    "    for k in ks:\n",
    "        if dictionary[k] > dictionary[best_key_so_far]:\n",
    "            best_key_so_far = k\n",
    "    return best_key_so_far\n",
    "\n",
    "print(most_common_letter(\"abbbbbbbbbbbccccddddd\"))"
   ]
  },
  {
   "cell_type": "code",
   "execution_count": 3,
   "metadata": {},
   "outputs": [
    {
     "name": "stdout",
     "output_type": "stream",
     "text": [
      "50\n"
     ]
    }
   ],
   "source": [
    "\"\"\"Write two functions, one called addit and one called mult. addit takes one number as an input and adds 5.\n",
    "mult takes one number as an input, and multiplies that input by whatever is returned by addit, and then returns the result\"\"\"\n",
    "\n",
    "\n",
    "def mult(x):\n",
    "    return addit(x)*x\n",
    "def addit(y):\n",
    "    return y+5\n",
    "\n",
    "print(mult(5))"
   ]
  },
  {
   "cell_type": "markdown",
   "metadata": {},
   "source": [
    "# Passing Mutable Objects"
   ]
  },
  {
   "cell_type": "code",
   "execution_count": 4,
   "metadata": {},
   "outputs": [
    {
     "name": "stdout",
     "output_type": "stream",
     "text": [
      "5\n",
      "['Michigan', 'Wolverines', 'are', 'awesome']\n"
     ]
    }
   ],
   "source": [
    "def double(y):\n",
    "    y = 2 * y\n",
    "\n",
    "def changeit(lst):\n",
    "    lst[0] = \"Michigan\"\n",
    "    lst[1] = \"Wolverines\"\n",
    "\n",
    "y = 5\n",
    "double(y)\n",
    "print(y)\n",
    "\n",
    "mylst = ['our', 'students', 'are', 'awesome']\n",
    "changeit(mylst)\n",
    "print(mylst)\n"
   ]
  },
  {
   "cell_type": "markdown",
   "metadata": {},
   "source": [
    "# Side Effects"
   ]
  },
  {
   "cell_type": "code",
   "execution_count": 5,
   "metadata": {},
   "outputs": [
    {
     "name": "stdout",
     "output_type": "stream",
     "text": [
      "10\n"
     ]
    }
   ],
   "source": [
    "def double(n):\n",
    "    global y\n",
    "    y = 2 * n \n",
    "\n",
    "y = 5\n",
    "double(y)\n",
    "print(y)\n"
   ]
  },
  {
   "cell_type": "code",
   "execution_count": 6,
   "metadata": {},
   "outputs": [
    {
     "name": "stdout",
     "output_type": "stream",
     "text": [
      "5 10\n"
     ]
    }
   ],
   "source": [
    "def double(n):\n",
    "    return 2 * n \n",
    "\n",
    "y = 5\n",
    "result=double(y)\n",
    "print(y,result)"
   ]
  },
  {
   "cell_type": "markdown",
   "metadata": {},
   "source": [
    "You can use the same coding pattern to avoid confusing side effects with sharing of mutable objects. To do that, explicitly make a copy of an object and pass the copy in to the function. Then return the modified copy and reassign it to the original variable if you want to save the changes. The built-in list function, which takes a sequence as a parameter and returns a new list, works to copy an existing list. For dictionaries, you can similarly call the dict function, passing in a dictionary to get a copy of the dictionary back as a return value."
   ]
  },
  {
   "cell_type": "markdown",
   "metadata": {},
   "source": [
    "# def changeit(lst):\n",
    "    lst[0] = \"Michigan\"\n",
    "    lst[1] = \"Wolverines\"\n",
    "    return lst\n",
    "\n",
    "mylst = ['106', 'students', 'are', 'awesome']\n",
    "a=mylst.copy()\n",
    "newlst = changeit(a)\n",
    "print(mylst)\n",
    "print(newlst)\n",
    "print(a)"
   ]
  },
  {
   "cell_type": "markdown",
   "metadata": {},
   "source": [
    "4. Provided is a list of tuples. Create another list called t_check that contains the third element of every tuple."
   ]
  },
  {
   "cell_type": "code",
   "execution_count": 11,
   "metadata": {},
   "outputs": [
    {
     "name": "stdout",
     "output_type": "stream",
     "text": [
      "['Zaptos', 'Charizard', 'Diglett', 'Tauros', 'Lanturn', 'Wailord']\n"
     ]
    }
   ],
   "source": [
    "\n",
    "lst_tups = [('Articuno', 'Moltres', 'Zaptos'), ('Beedrill', 'Metapod', 'Charizard', 'Venasaur', 'Squirtle'), ('Oddish', 'Poliwag', 'Diglett', 'Bellsprout'), ('Ponyta', \"Farfetch'd\", \"Tauros\", 'Dragonite'), ('Hoothoot', 'Chikorita', 'Lanturn', 'Flaaffy', 'Unown', 'Teddiursa', 'Phanpy'), ('Loudred', 'Volbeat', 'Wailord', 'Seviper', 'Sealeo')]\n",
    "t_check=[]\n",
    "for tup in lst_tups:\n",
    "    t_check.append(tup[2])\n",
    "print(t_check)"
   ]
  },
  {
   "cell_type": "markdown",
   "metadata": {},
   "source": [
    "# Tuple Assignment with Unpacking\n",
    "Python has a very powerful tuple assignment feature that allows a tuple of variable names on the left of an assignment statement to be assigned values from a tuple on the right of the assignment. Another way to think of this is that the tuple of values is unpacked into the variable names"
   ]
  },
  {
   "cell_type": "code",
   "execution_count": 12,
   "metadata": {},
   "outputs": [
    {
     "name": "stdout",
     "output_type": "stream",
     "text": [
      "('Julia', 'Roberts', 1967, 'Duplicity', 2009, 'Actress', 'Atlanta, Georgia')\n",
      "Julia\n"
     ]
    }
   ],
   "source": [
    "julia = \"Julia\", \"Roberts\", 1967, \"Duplicity\", 2009, \"Actress\", \"Atlanta, Georgia\"\n",
    "\n",
    "name, surname, birth_year, movie, movie_year, profession, birth_place = julia\n",
    "\n",
    "print(julia)\n",
    "print(name)"
   ]
  },
  {
   "cell_type": "markdown",
   "metadata": {},
   "source": [
    "# Swapping"
   ]
  },
  {
   "cell_type": "code",
   "execution_count": 15,
   "metadata": {},
   "outputs": [
    {
     "name": "stdout",
     "output_type": "stream",
     "text": [
      "2 1\n",
      "2 1\n"
     ]
    }
   ],
   "source": [
    "a = 1\n",
    "b = 2\n",
    "temp = a\n",
    "a = b\n",
    "b = temp\n",
    "print(a, b)\n",
    "\n",
    "\n",
    "#or it can be done\n",
    "a = 1\n",
    "b = 2\n",
    "(a, b) = (b, a)\n",
    "print(a, b)"
   ]
  },
  {
   "cell_type": "markdown",
   "metadata": {},
   "source": [
    "# Unpacking into iterator variable"
   ]
  },
  {
   "cell_type": "code",
   "execution_count": 16,
   "metadata": {},
   "outputs": [
    {
     "name": "stdout",
     "output_type": "stream",
     "text": [
      "first name: Paul last name: Resnick\n",
      "first name: Brad last name: Miller\n",
      "first name: Lauren last name: Murphy\n"
     ]
    }
   ],
   "source": [
    "authors = [('Paul', 'Resnick'), ('Brad', 'Miller'), ('Lauren', 'Murphy')]\n",
    "for first_name, last_name in authors:\n",
    "    print(\"first name:\", first_name, \"last name:\", last_name)"
   ]
  },
  {
   "cell_type": "code",
   "execution_count": 17,
   "metadata": {},
   "outputs": [
    {
     "name": "stdout",
     "output_type": "stream",
     "text": [
      "0 apple\n",
      "1 pear\n",
      "2 apricot\n",
      "3 cherry\n",
      "4 peach\n"
     ]
    }
   ],
   "source": [
    "fruits = ['apple', 'pear', 'apricot', 'cherry', 'peach']\n",
    "for n in range(len(fruits)):\n",
    "    print(n, fruits[n])\n"
   ]
  },
  {
   "cell_type": "code",
   "execution_count": 18,
   "metadata": {},
   "outputs": [
    {
     "name": "stdout",
     "output_type": "stream",
     "text": [
      "0 apple\n",
      "1 pear\n",
      "2 apricot\n",
      "3 cherry\n",
      "4 peach\n"
     ]
    }
   ],
   "source": [
    "fruits = ['apple', 'pear', 'apricot', 'cherry', 'peach']\n",
    "for item in enumerate(fruits):\n",
    "    print(item[0], item[1])\n"
   ]
  },
  {
   "cell_type": "code",
   "execution_count": 19,
   "metadata": {},
   "outputs": [
    {
     "name": "stdout",
     "output_type": "stream",
     "text": [
      "0 apple\n",
      "1 pear\n",
      "2 apricot\n",
      "3 cherry\n",
      "4 peach\n"
     ]
    }
   ],
   "source": [
    "fruits = ['apple', 'pear', 'apricot', 'cherry', 'peach']\n",
    "for idx, fruit in enumerate(fruits):\n",
    "    print(idx, fruit)"
   ]
  },
  {
   "cell_type": "code",
   "execution_count": 20,
   "metadata": {},
   "outputs": [
    {
     "name": "stdout",
     "output_type": "stream",
     "text": [
      "['Rattata', 'Machop', 'Seel', 'Volbeat', 'Solrock']\n",
      "[19, 66, 86, 86, 126]\n"
     ]
    }
   ],
   "source": [
    "\n",
    "pokemon = {'Rattata': 19, 'Machop': 66, 'Seel': 86, 'Volbeat': 86, 'Solrock': 126}\n",
    "p_names=[]\n",
    "p_number=[]\n",
    "for item in pokemon.items():\n",
    "    p_names.append(item[0])\n",
    "    p_number.append(item[1])\n",
    "\n",
    "    \n",
    "print(p_names)\n",
    "print(p_number)"
   ]
  },
  {
   "cell_type": "code",
   "execution_count": 28,
   "metadata": {},
   "outputs": [
    {
     "name": "stdout",
     "output_type": "stream",
     "text": [
      "7\n",
      "9\n"
     ]
    }
   ],
   "source": [
    " \"\"\"Python even provides a way to pass a single tuple to a function and have it be unpacked for assignment\n",
    "to the named parameters.\"\"\"\n",
    "\n",
    "def add(x, y):\n",
    "    return x + y\n",
    "\n",
    "print(add(3, 4))\n",
    "z = (5, 4)\n",
    "print(add(*z))\n",
    "#print(add(z))# this line causes an error\n"
   ]
  },
  {
   "cell_type": "code",
   "execution_count": 25,
   "metadata": {},
   "outputs": [
    {
     "name": "stdout",
     "output_type": "stream",
     "text": [
      "['China', 'England', 'Brazil', 'Japan']\n"
     ]
    }
   ],
   "source": [
    "\n",
    "tuples_lst = [('Beijing', 'China', 2008), ('London', 'England', 2012), ('Rio', 'Brazil', 2016, 'Current'), ('Tokyo', 'Japan', 2020, 'Future')]\n",
    "country=[]\n",
    "for item in tuples_lst:\n",
    "    country.append(item[1])\n",
    "print(country)"
   ]
  },
  {
   "cell_type": "code",
   "execution_count": 27,
   "metadata": {},
   "outputs": [
    {
     "data": {
      "text/plain": [
       "[31, 19, 19, 13, 12, 10, 8, 8]"
      ]
     },
     "execution_count": 27,
     "metadata": {},
     "output_type": "execute_result"
    }
   ],
   "source": [
    "\n",
    "gold = {'USA':31, 'Great Britain':19, 'China':19, 'Germany':13, 'Russia':12, 'Japan':10, 'France':8, 'Italy':8}\n",
    "num_medals=[]\n",
    "for item in gold.items():\n",
    "    num_medals.append(item[1])\n",
    "num_medals"
   ]
  },
  {
   "cell_type": "markdown",
   "metadata": {},
   "source": [
    "# Listner Loop: while loop uses"
   ]
  },
  {
   "cell_type": "code",
   "execution_count": 34,
   "metadata": {},
   "outputs": [
    {
     "name": "stdout",
     "output_type": "stream",
     "text": [
      "enter no. which has to add(if no more no. input 0 to see result)45\n",
      "enter no. which has to add(if no more no. input 0 to see result)12\n",
      "enter no. which has to add(if no more no. input 0 to see result)0\n",
      "sum is: 57 \n"
     ]
    }
   ],
   "source": [
    "s=0\n",
    "x=1\n",
    "while x!=0:\n",
    "    x=int(input(\"enter no. which has to add(if no more no. input 0 to see result)\"))\n",
    "    s+=x\n",
    "print(\"sum is: {} \".format(s))"
   ]
  },
  {
   "cell_type": "code",
   "execution_count": 39,
   "metadata": {},
   "outputs": [
    {
     "name": "stdout",
     "output_type": "stream",
     "text": [
      "enter the price of item(enter 0 when done! )78\n",
      "subtotals:  78.0\n",
      "enter the price of item(enter 0 when done! )45\n",
      "subtotals:  123.0\n",
      "enter the price of item(enter 0 when done! )12\n",
      "subtotals:  135.0\n",
      "enter the price of item(enter 0 when done! )13\n",
      "subtotals:  148.0\n",
      "enter the price of item(enter 0 when done! )16\n",
      "subtotals:  164.0\n",
      "enter the price of item(enter 0 when done! )0\n",
      "\n",
      "item count is: 5 \n",
      "and total amount is: 164.0 \n",
      "average price is:  32.8\n"
     ]
    }
   ],
   "source": [
    "def checkout():\n",
    "    count=0\n",
    "    total=0\n",
    "    moreitem=True\n",
    "    while moreitem:\n",
    "        price=float(input(\"enter the price of item(enter 0 when done! )\"))\n",
    "        if price!=0:\n",
    "            count+=1\n",
    "            total+=price\n",
    "            print(\"subtotals: \",total)\n",
    "        else:\n",
    "            moreitem=False\n",
    "    avg=total/count\n",
    "    print(\"\\nitem count is: {} \\nand total amount is: {} \".format(count,total))\n",
    "    print(\"average price is: \",avg)\n",
    "checkout()"
   ]
  },
  {
   "cell_type": "markdown",
   "metadata": {},
   "source": [
    "# validating input"
   ]
  },
  {
   "cell_type": "code",
   "execution_count": 47,
   "metadata": {},
   "outputs": [
    {
     "name": "stdout",
     "output_type": "stream",
     "text": [
      "Hey you are feeling well of not? 'y')well or 'n')not well.p\n",
      "Enter the valid key 'Y' for yes or 'N' for no\n",
      "Hey you are feeling well of not? 'y')well or 'n')not well.w\n",
      "Enter the valid key 'Y' for yes or 'N' for no\n",
      "Hey you are feeling well of not? 'y')well or 'n')not well.55\n",
      "Enter the valid key 'Y' for yes or 'N' for no\n",
      "Hey you are feeling well of not? 'y')well or 'n')not well.y\n",
      "\n",
      "Glad to hear, you are well -)\n"
     ]
    }
   ],
   "source": [
    "def input_yes_or_no(message):\n",
    "    valid_input=False\n",
    "    while not valid_input:\n",
    "        key=input(message)\n",
    "        key=key.upper()\n",
    "        if key==\"Y\" or key==\"N\":\n",
    "            valid_input=True\n",
    "        else:\n",
    "            print(\"Enter the valid key 'Y' for yes or 'N' for no\")\n",
    "    return key\n",
    "\n",
    "show=\"Hey you are feeling well of not? 'y')well or 'n')not well.\"\n",
    "result=input_yes_or_no(show)\n",
    "\n",
    "if result==\"Y\":\n",
    "    print(\"\\nGlad to hear, you are well -)\")\n",
    "elif result==\"N\":\n",
    "    print(\"\\nPlease GO to hospital for checkup!\")\n",
    "            "
   ]
  },
  {
   "cell_type": "code",
   "execution_count": 1,
   "metadata": {},
   "outputs": [],
   "source": [
    "import random\n",
    "import turtle\n",
    "\n",
    "\n",
    "def isInScreen(w, t):\n",
    "    if random.random() > 0.1:\n",
    "        return True\n",
    "    else:\n",
    "        return False\n",
    "\n",
    "\n",
    "t = turtle.Turtle()\n",
    "wn = turtle.Screen()\n",
    "\n",
    "t.shape('turtle')\n",
    "while isInScreen(wn, t):\n",
    "    coin = random.randrange(0, 2)\n",
    "    if coin == 0:              # heads\n",
    "        t.left(90)\n",
    "    else:                      # tails\n",
    "        t.right(90)\n",
    "\n",
    "    t.forward(50)\n",
    "\n",
    "wn.exitonclick()\n"
   ]
  },
  {
   "cell_type": "markdown",
   "metadata": {},
   "source": [
    "Write a function, sublist, that takes in a list of numbers as the parameter. In the function, use a while loop to return a sublist of the input list. The sublist should contain the same values of the original list up until it reaches the number 5 (it should not contain the number 5)."
   ]
  },
  {
   "cell_type": "code",
   "execution_count": 4,
   "metadata": {},
   "outputs": [
    {
     "name": "stdout",
     "output_type": "stream",
     "text": [
      "[2, 3, 4, 9, 6]\n",
      "[2, 3, 6, 3, 2, 4, 6, 7]\n",
      "[]\n"
     ]
    }
   ],
   "source": [
    "\n",
    "def sublist(lst):\n",
    "    st=[]\n",
    "    idx=0\n",
    "    while lst[idx]!=5:\n",
    "        st.append(lst[idx])\n",
    "        idx+=1\n",
    "        if len(st)==len(lst):\n",
    "            break\n",
    "    return st\n",
    "\n",
    "print(sublist([2,3,4,9,6,5,9,4,7]))\n",
    "print(sublist([2,3,6,3,2,4,6,7]))\n",
    "print(sublist([5]))"
   ]
  },
  {
   "cell_type": "markdown",
   "metadata": {},
   "source": [
    "Challenge: Write a function called beginning that takes a list as input and contains a while loop that only stops once the element of the list is the string ‘bye’. What is returned is a list that contains up to the first 10 strings, regardless of where the loop stops. (i.e., if it stops on the 32nd element, the first 10 are returned. If “bye” is the 5th element, the first 4 are returned.) If you want to make this even more of a challenge, do this without slicing"
   ]
  },
  {
   "cell_type": "code",
   "execution_count": 8,
   "metadata": {},
   "outputs": [
    {
     "name": "stdout",
     "output_type": "stream",
     "text": [
      "['water', 'phone', 'home', 'chapstick', 'market', 'headphones']\n",
      "[]\n",
      "['hello', 'hi', 'hiyah', 'howdy', 'what up', 'whats good', 'holla', 'good afternoon', 'good morning', 'sup']\n"
     ]
    }
   ],
   "source": [
    "\n",
    "def beginning(lst):\n",
    "    new=[]\n",
    "    idx=0\n",
    "    while lst[idx]!=\"bye\" and len(new)<10:\n",
    "        new.append(lst[idx])\n",
    "        idx+=1\n",
    "        if len(new)==len(lst):\n",
    "            break\n",
    "    return new\n",
    "\n",
    "print(beginning(['water', 'phone', 'home', 'chapstick', 'market', 'headphones', \n",
    "                 'bye', 'stickie notes', 'snapchat', 'facebook', 'social media']))\n",
    "print(beginning(['bye', 'no', 'yes', 'maybe', 'sorta']))\n",
    "print(beginning(['hello', 'hi', 'hiyah', 'howdy', 'what up', 'whats good', 'holla',\n",
    "                'good afternoon', 'good morning', 'sup', 'see yah', 'toodel loo',\n",
    "                'night', 'until later', 'peace', 'bye', 'good-bye', 'g night']))"
   ]
  },
  {
   "cell_type": "markdown",
   "metadata": {},
   "source": [
    "# Optional Parameters"
   ]
  },
  {
   "cell_type": "code",
   "execution_count": 9,
   "metadata": {},
   "outputs": [
    {
     "name": "stdout",
     "output_type": "stream",
     "text": [
      "here x,y,z are:  2 3 7\n",
      "here x,y,z are:  2 4 7\n",
      "here x,y,z are:  5 6 8\n"
     ]
    }
   ],
   "source": [
    "initilize=7\n",
    "def f(x,y=3,z=initilize):\n",
    "    ### here y and z are optional parameter\n",
    "    print(\"here x,y,z are: \",str(x),str(y),str(z))\n",
    "\n",
    "f(2)\n",
    "f(2,4)\n",
    "f(5,6,8)"
   ]
  },
  {
   "cell_type": "markdown",
   "metadata": {},
   "source": [
    "Note\n",
    "\n",
    "This is a second, related but slightly different use of = than we have seen previously. In a stand-alone assignment statement, not part of a function definition, x=3 assigns 3 to the variable x. As part of specifying the parameters in a function definition, x=3 says that 3 is the default value for x, used only when no value is provided during the function invocation.\n",
    "\n",
    "There are two tricky things that can confuse you with default values. The first is that the default value is determined at the time that the function is defined, not at the time that it is invoked. So in the example above, if we wanted to invoke the function f with a value of 10 for z, we cannot simply set initial = 10 right before invoking f. See what happens in the code below, where z still gets the value 7 when f is invoked without specifying a value for z."
   ]
  },
  {
   "cell_type": "code",
   "execution_count": 12,
   "metadata": {},
   "outputs": [
    {
     "name": "stdout",
     "output_type": "stream",
     "text": [
      "x, y, z, are: 2, 3, 7\n",
      "10\n"
     ]
    }
   ],
   "source": [
    "initial = 7\n",
    "def f(x, y =3, z=initial):\n",
    "    print(\"x, y, z, are: \" + str(x) + \", \" + str(y) + \", \" + str(z))\n",
    "\n",
    "initial = 10\n",
    "f(2)\n",
    "print(initial)\n",
    "\n",
    "### here by default value of z is assigned before reassign the value of initial"
   ]
  },
  {
   "cell_type": "raw",
   "metadata": {},
   "source": [
    "# The second tricky thing is that if the default value is set to a mutable object, such as a list or a dictionary, that object will be shared in all invocations of the function. This can get very confusing, so I suggest that you never set a default value that is a mutable object. For example, follow the exceution of this one carefully."
   ]
  },
  {
   "cell_type": "code",
   "execution_count": 19,
   "metadata": {},
   "outputs": [
    {
     "name": "stdout",
     "output_type": "stream",
     "text": [
      "[1]\n",
      "[1, 2]\n",
      "[1, 2, 3]\n",
      "['Hello', 4]\n",
      "['HEY', 5]\n"
     ]
    }
   ],
   "source": [
    "def f(a, L=[]):\n",
    "    L.append(a)\n",
    "    return L\n",
    "\n",
    "print(f(1))\n",
    "print(f(2))\n",
    "print(f(3))\n",
    "print(f(4, [\"Hello\"]))\n",
    "print(f(5, [\"HEY\"]))"
   ]
  },
  {
   "cell_type": "code",
   "execution_count": 22,
   "metadata": {},
   "outputs": [
    {
     "name": "stdout",
     "output_type": "stream",
     "text": [
      "hahaha\n",
      "hahahahahahaha\n",
      "\n"
     ]
    }
   ],
   "source": [
    "\n",
    "def str_mult(st,x=3):\n",
    "    return st*x\n",
    "\n",
    "print(str_mult(\"ha\"))\n",
    "print(str_mult(\"ha\",7))\n",
    "print(str_mult(\"ha\",0))"
   ]
  },
  {
   "cell_type": "markdown",
   "metadata": {},
   "source": [
    "# KEY word parameter"
   ]
  },
  {
   "cell_type": "code",
   "execution_count": 23,
   "metadata": {},
   "outputs": [
    {
     "name": "stdout",
     "output_type": "stream",
     "text": [
      "-- This parrot wouldn'tvoom\n",
      "if you put1000volts through it.\n",
      "-- Lovely plumage, theNorwegian Blue\n",
      "-- It's a stiff!\n",
      "-- This parrot wouldn'tvoom\n",
      "if you put1000volts through it.\n",
      "-- Lovely plumage, theNorwegian Blue\n",
      "-- It's a stiff!\n",
      "-- This parrot wouldn'tVOOOOOM\n",
      "if you put1000000volts through it.\n",
      "-- Lovely plumage, theNorwegian Blue\n",
      "-- It's a stiff!\n",
      "-- This parrot wouldn'tVOOOOOM\n",
      "if you put1000000volts through it.\n",
      "-- Lovely plumage, theNorwegian Blue\n",
      "-- It's a stiff!\n",
      "-- This parrot wouldn'tjump\n",
      "if you puta millionvolts through it.\n",
      "-- Lovely plumage, theNorwegian Blue\n",
      "-- It's bereft of life!\n",
      "-- This parrot wouldn'tvoom\n",
      "if you puta thousandvolts through it.\n",
      "-- Lovely plumage, theNorwegian Blue\n",
      "-- It's pushing up the daisies!\n"
     ]
    }
   ],
   "source": [
    "def parrot(voltage, state='a stiff', action='voom', type='Norwegian Blue'):\n",
    "    print(\"-- This parrot wouldn't\" + action,)\n",
    "    print(\"if you put\" + str(voltage) + \"volts through it.\")\n",
    "    print(\"-- Lovely plumage, the\" +  type)\n",
    "    print(\"-- It's \" + state + \"!\")\n",
    "\n",
    "parrot(1000)                                          # 1 positional argument\n",
    "parrot(voltage=1000)                                  # 1 keyword argument\n",
    "parrot(voltage=1000000, action='VOOOOOM')             # 2 keyword arguments\n",
    "parrot(action='VOOOOOM', voltage=1000000)             # 2 keyword arguments\n",
    "parrot('a million', 'bereft of life', 'jump')         # 3 positional arguments\n",
    "parrot('a thousand', state='pushing up the daisies')  # 1 positional, 1 keyword"
   ]
  },
  {
   "cell_type": "code",
   "execution_count": 24,
   "metadata": {},
   "outputs": [
    {
     "name": "stdout",
     "output_type": "stream",
     "text": [
      "The scores Jack got were: 67,89,91.\n",
      "The scores Emily got were: 72,95,42.\n",
      "The scores Taylor got were: 83,92,86.\n"
     ]
    }
   ],
   "source": [
    "names_scores = [(\"Jack\",[67,89,91]),(\"Emily\",[72,95,42]),(\"Taylor\",[83,92,86])]\n",
    "for name, scores in names_scores:\n",
    "    print(\"The scores {nm} got were: {s1},{s2},{s3}.\".format(nm=name,s1=scores[0],s2=scores[1],s3=scores[2]))\n"
   ]
  },
  {
   "cell_type": "raw",
   "metadata": {},
   "source": [
    "Sometimes, you may want to use the .format method to insert the same value into a string multiple times. You can do this by simply passing the same string into the format method, assuming you have included {} s in the string everywhere you want to interpolate them. But you can also use positional passing references to do this! The order in which you pass arguments into the format method matters: the first one is argument 0, the second is argument 1, and so on.\n",
    "\n",
    "For example,"
   ]
  },
  {
   "cell_type": "code",
   "execution_count": 28,
   "metadata": {},
   "outputs": [
    {
     "name": "stdout",
     "output_type": "stream",
     "text": [
      "'Jack!' she yelled. 'Jack! Jack, say hello!'\n",
      "'Jill!' she yelled. 'Jill! Jill, say hello!'\n",
      "'Mary!' she yelled. 'Mary! Mary, say hello!'\n",
      "'Jack!' she yelled. 'Jack! Jack, say hello!'\n",
      "'Jill!' she yelled. 'Jill! Jill, say hello!'\n",
      "'Mary!' she yelled. 'Mary! Mary, say hello!'\n"
     ]
    }
   ],
   "source": [
    "# this works\n",
    "names = [\"Jack\",\"Jill\",\"Mary\"]\n",
    "for n in names:\n",
    "    print(\"'{}!' she yelled. '{}! {}, {}!'\".format(n,n,n,\"say hello\"))\n",
    "\n",
    "# but this also works!\n",
    "names = [\"Jack\",\"Jill\",\"Mary\"]\n",
    "for n in names:\n",
    "    print(\"'{0}!' she yelled. '{0}! {0}, {1}!'\".format(n,\"say hello\"))\n"
   ]
  },
  {
   "cell_type": "code",
   "execution_count": 29,
   "metadata": {},
   "outputs": [
    {
     "name": "stdout",
     "output_type": "stream",
     "text": [
      "'Catalina!' she yelled. 'Come here, Catalina! Alexey, Misuki, and Pablo are here!'\n"
     ]
    }
   ],
   "source": [
    "names = [\"Alexey\", \"Catalina\", \"Misuki\", \"Pablo\"]\n",
    "print(\"'{first}!' she yelled. 'Come here, {first}! {f_one}, {f_two}, and {f_three} are here!'\"\n",
    "      .format(first = names[1], f_one = names[0], f_two = names[2], f_three = names[3]))"
   ]
  },
  {
   "cell_type": "raw",
   "metadata": {},
   "source": [
    "Write a function, test, that takes in three parameters: a required integer, an optional boolean whose default value is True, and an optional dictionary, called dict1, whose default value is {2:3, 4:5, 6:8}. If the boolean parameter is True, the function should test to see if the integer is a key in the dictionary. The value of that key should then be returned. If the boolean parameter is False, return the boolean value “False”"
   ]
  },
  {
   "cell_type": "code",
   "execution_count": 30,
   "metadata": {},
   "outputs": [
    {
     "name": "stdout",
     "output_type": "stream",
     "text": [
      "5\n",
      "False\n",
      "None\n"
     ]
    }
   ],
   "source": [
    "def test(n,b=True,dict1={2:3,4:5,6:8}):\n",
    "    if b==True:\n",
    "        key=dict1.keys()\n",
    "        \n",
    "        if n in key:\n",
    "            return dict1.get(n)\n",
    "\n",
    "    if b==False:\n",
    "        return b\n",
    "    \n",
    "print(test(4))\n",
    "print(test(2,False))\n",
    "print(test(7))\n"
   ]
  },
  {
   "cell_type": "raw",
   "metadata": {},
   "source": [
    "Write a function called checkingIfIn that takes three parameters. The first is a required parameter, which should be a string. The second is an optional parameter called direction with a default value of True. The third is an optional parameter called d that has a default value of {'apple': 2, 'pear': 1, 'fruit': 19, 'orange': 5, 'banana': 3, 'grapes': 2, 'watermelon': 7}. Write the function checkingIfIn so that when the second parameter is True, it checks to see if the first parameter is a key in the third parameter; if it is, return True, otherwise return False.\n",
    "\n",
    "But if the second paramter is False, then the function should check to see if the first parameter is not a key of the third. If it’s not, the function should return True in this case, and if it is, it should return False."
   ]
  },
  {
   "cell_type": "code",
   "execution_count": 34,
   "metadata": {},
   "outputs": [
    {
     "name": "stdout",
     "output_type": "stream",
     "text": [
      "True\n",
      "False\n",
      "False\n",
      "True\n",
      "False\n"
     ]
    }
   ],
   "source": [
    "\n",
    "def checkingIfIn(srt,direction=True,d={'apple': 2, 'pear': 1, 'fruit': 19, 'orange': 5, 'banana': 3, 'grapes': 2, 'watermelon': 7}):\n",
    "    if direction==True:\n",
    "        key=d.keys()\n",
    "        if srt in key:\n",
    "            return True\n",
    "        else:\n",
    "            return False\n",
    "    if direction==False:\n",
    "        key=d.keys()\n",
    "        if srt not in key:\n",
    "            return True\n",
    "        else:\n",
    "            return False\n",
    "        \n",
    "        \n",
    "print(checkingIfIn(\"pear\"))\n",
    "print(checkingIfIn(\"pear\",False))\n",
    "print(checkingIfIn(\"ABCD\"))\n",
    "print(checkingIfIn(\"ABCD\",direction=False))\n",
    "print(checkingIfIn('grapes', d = {'carrots': 1, 'peas': 9, 'potatos': 8, 'corn': 32, 'beans': 1}))"
   ]
  },
  {
   "cell_type": "code",
   "execution_count": null,
   "metadata": {},
   "outputs": [],
   "source": []
  }
 ],
 "metadata": {
  "kernelspec": {
   "display_name": "Python 3",
   "language": "python",
   "name": "python3"
  },
  "language_info": {
   "codemirror_mode": {
    "name": "ipython",
    "version": 3
   },
   "file_extension": ".py",
   "mimetype": "text/x-python",
   "name": "python",
   "nbconvert_exporter": "python",
   "pygments_lexer": "ipython3",
   "version": "3.7.7"
  }
 },
 "nbformat": 4,
 "nbformat_minor": 4
}
